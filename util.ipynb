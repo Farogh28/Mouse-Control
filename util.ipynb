{
 "cells": [
  {
   "cell_type": "code",
   "execution_count": 4,
   "id": "17fd6f22-8137-464f-a24a-4c736d614de1",
   "metadata": {},
   "outputs": [],
   "source": [
    "import numpy as np"
   ]
  },
  {
   "cell_type": "code",
   "execution_count": 5,
   "id": "9d5a7882-dc17-4d4e-9191-9d8e0a54b756",
   "metadata": {},
   "outputs": [],
   "source": [
    "# def get_angel(a,b,c):\n",
    "#     radians = np.arctan2(c[1] -b[1], c[0] - b[0]) - np.arctan2(a[1] - b[1], a[0] - b[0])\n",
    "#     angle = np.abs(np.degrees(radians))\n",
    "#     return anf\n",
    "\n",
    "# def get_distance(landmark_lst):\n",
    "#     if len(landmark_lst):\n",
    "#         return\n",
    "#     (x1,y1),(x2,y2)= landmark_lst[0], landmark_lst[1]  \n",
    "#     L = np.hypot(x2-x1, y2 - y1)   # Calculating euclidian distance between points\n",
    "#     return np.interp(L, [0,1],[0,1000])   # interpolation / (converting values)"
   ]
  },
  {
   "cell_type": "code",
   "execution_count": 6,
   "id": "d310fe53-dbf8-481b-a0c8-4ff631d74a58",
   "metadata": {},
   "outputs": [],
   "source": [
    "def hey (self):\n",
    "    print (\"Hello\")"
   ]
  },
  {
   "cell_type": "code",
   "execution_count": null,
   "id": "d35d94ef-12ec-428a-888c-ab2a35589295",
   "metadata": {},
   "outputs": [],
   "source": []
  }
 ],
 "metadata": {
  "kernelspec": {
   "display_name": "Python 3 (ipykernel)",
   "language": "python",
   "name": "python3"
  },
  "language_info": {
   "codemirror_mode": {
    "name": "ipython",
    "version": 3
   },
   "file_extension": ".py",
   "mimetype": "text/x-python",
   "name": "python",
   "nbconvert_exporter": "python",
   "pygments_lexer": "ipython3",
   "version": "3.12.3"
  }
 },
 "nbformat": 4,
 "nbformat_minor": 5
}
