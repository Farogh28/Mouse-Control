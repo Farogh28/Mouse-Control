{
 "cells": [
  {
   "cell_type": "code",
   "execution_count": 1,
   "id": "80dc4fd7-d5f5-4b86-98ed-c245a123085c",
   "metadata": {},
   "outputs": [],
   "source": [
    "# !pip install nbimporter   # with this i can import ipynb file in another ipunb file"
   ]
  },
  {
   "cell_type": "code",
   "execution_count": 2,
   "id": "c3122d9e-ea8d-42b7-883b-11d7a29b2acf",
   "metadata": {},
   "outputs": [],
   "source": [
    "# import nbimporter"
   ]
  },
  {
   "cell_type": "code",
   "execution_count": 3,
   "id": "7c4298cd-3e4c-4c47-9d55-d00792a175f4",
   "metadata": {},
   "outputs": [],
   "source": [
    "# jupyter nbconvert --to script util.ipynb\n"
   ]
  },
  {
   "cell_type": "code",
   "execution_count": 4,
   "id": "ca098434-5d8d-4397-98d8-d37ce3b0a300",
   "metadata": {},
   "outputs": [],
   "source": [
    "# %run util.ipynb"
   ]
  },
  {
   "cell_type": "code",
   "execution_count": 19,
   "id": "3db1167e-0f29-4602-a741-5db905890179",
   "metadata": {},
   "outputs": [],
   "source": [
    "# pip install PyAutoGUI\n"
   ]
  },
  {
   "cell_type": "code",
   "execution_count": 33,
   "id": "85ab47bf-0640-4c2a-be8f-52ebff305b50",
   "metadata": {},
   "outputs": [],
   "source": [
    "# pip install pynput"
   ]
  },
  {
   "cell_type": "code",
   "execution_count": 52,
   "id": "e5c624f2-1c9a-4d2a-92e5-4d374f68015c",
   "metadata": {},
   "outputs": [],
   "source": [
    "import cv2 # via opencv\n",
    "import mediapipe as mp   # For hand gesture control \n",
    "import utill\n",
    "import pyautogui # this library is for mouse movement\n",
    "\n",
    "from pynput.mouse import Button, Controller\n",
    "mouse = Controller()  # to control the mouse"
   ]
  },
  {
   "cell_type": "code",
   "execution_count": 53,
   "id": "2fc4a44e-e31f-4f49-947d-ef808779cbf5",
   "metadata": {},
   "outputs": [],
   "source": [
    "import random"
   ]
  },
  {
   "cell_type": "code",
   "execution_count": 46,
   "id": "f9376eb1-7e1e-478a-a1e0-9aeb1f6e5f1a",
   "metadata": {},
   "outputs": [],
   "source": [
    "screen_width, screen_height = pyautogui.size() # To get the screen width and height\n",
    "\n",
    "\n",
    "mpHands = mp.solutions.hands\n",
    "hands = mpHands.Hands(\n",
    "    static_image_mode = False,\n",
    "    model_complexity = 1,\n",
    "    min_detection_confidence = 0.7,\n",
    "    min_tracking_confidence = 0.7,\n",
    "    max_num_hands = 1\n",
    ")\n"
   ]
  },
  {
   "cell_type": "code",
   "execution_count": 47,
   "id": "6e13cfab-b01c-45e9-8b4c-361a64252bbd",
   "metadata": {},
   "outputs": [],
   "source": [
    "def find_finger_tip(processed):\n",
    "    if processed.multi_hand_landmarks:\n",
    "        hand_landmarks = processed.multi_hand_landmarks[0]\n",
    "        return hand_landmarks.landmark[mpHands.HandLandmark.INDEX_FINGER_TIP]\n",
    "    return None"
   ]
  },
  {
   "cell_type": "code",
   "execution_count": 48,
   "id": "f4ed4b8c-49bc-4313-a0f6-70f5669af0a9",
   "metadata": {},
   "outputs": [],
   "source": [
    "def move_mouse(index_finger_tip):\n",
    "    if index_finger_tip is not None:\n",
    "        x = int(index_finger_tip.x * screen_width)\n",
    "        y = int(index_finger_tip.y * screen_height)\n",
    "        pyautogui.moveTo(x,y)"
   ]
  },
  {
   "cell_type": "code",
   "execution_count": 49,
   "id": "7f9d3e2f-f3e8-4adf-b52c-809e992f0614",
   "metadata": {},
   "outputs": [],
   "source": [
    "def is_left_click(landmarks_lst, thumb_index_dist):\n",
    "    return (utill.get_angle(landmarks_lst[5], landmarks_lst[6], landmarks_lst[8])<50 and \n",
    "           utill.get_angle(landmarks_lst[9], landmarks_lst[10], landmarks_lst[12])>90 and\n",
    "           thumb_index_dist > 50\n",
    "           )\n",
    "\"\"\"above code is checking, 1- (Index finger is bend)\n",
    "                2 --(Middle finger should be straight)\n",
    "                3 --(Thumb is also straight\n",
    "                )\"\"\"\n",
    "def is_right_click(landmarks_lst, thumb_index_dist):\n",
    "    return (utill.get_angle(landmarks_lst[9], landmarks_lst[10], landmarks_lst[12])<50 and \n",
    "           utill.get_angle(landmarks_lst[5], landmarks_lst[6], landmarks_lst[8])>90 and\n",
    "           thumb_index_dist > 50\n",
    "           )\n",
    "\n",
    "def is_double_click(landmarks_lst, thumb_index_dist):\n",
    "    return (utill.get_angle(landmarks_lst[5], landmarks_lst[6], landmarks_lst[8])<50 and \n",
    "           utill.get_angle(landmarks_lst[9], landmarks_lst[10], landmarks_lst[12])<50 and\n",
    "           thumb_index_dist > 50\n",
    "           )\n",
    "\n",
    "#Change\n",
    "def is_screenshot(landmarks_lst, thumb_index_dist):\n",
    "    return (utill.get_angle(landmarks_lst[5], landmarks_lst[6], landmarks_lst[8])<50 and \n",
    "           utill.get_angle(landmarks_lst[9], landmarks_lst[10], landmarks_lst[12])<50 and\n",
    "           thumb_index_dist < 50\n",
    "           )\n"
   ]
  },
  {
   "cell_type": "code",
   "execution_count": 54,
   "id": "5e2d1004-f1df-4f63-8da1-8d50826eca74",
   "metadata": {},
   "outputs": [],
   "source": [
    "def detect_gesture(frame, landmarks_lst, processed):\n",
    "    if len (landmarks_lst)>=21:\n",
    "    # first thing is to move the mouse\n",
    "        # second to track the point and mark that point\n",
    "        index_finger_tip = find_finger_tip(processed)\n",
    "        # print (index_finger_tip)\n",
    "        # thumb\n",
    "        thumb_index_dist = utill.get_distance([landmarks_lst[4], landmarks_lst[5]])\n",
    "\n",
    "        if thumb_index_dist < 50 and utill.get_angle(landmarks_lst[5], landmarks_lst[6],landmarks_lst[8])>90:\n",
    "            move_mouse(index_finger_tip)\n",
    "\n",
    "\n",
    "        # Left click -  Thumb - open/strainght, Index - bend, Middle finger - Straight  - use pynpuy\n",
    "        elif is_left_click(landmarks_lst, thumb_index_dist):\n",
    "            print (\"Left clicked\")\n",
    "            mouse.press(Button.left)\n",
    "            mouse.release(Button.left)\n",
    "            cv2.putText(frame, \"Left Click\",(50,50),cv2.FONT_HERSHEY_SIMPLEX, 1, (0,255,0),2)\n",
    "        \n",
    "        # Right click   - use pynput\n",
    "        elif is_right_click(landmarks_lst, thumb_index_dist):\n",
    "            mouse.press(Button.right)\n",
    "            mouse.release(Button.right)\n",
    "            cv2.putText(frame, \"Right Click\",(50,50),cv2.FONT_HERSHEY_SIMPLEX, 1, (0,0,255),2)\n",
    "\n",
    "        #Double click  - using pyatuogui for this / or can use another (find it and apply)\n",
    "        elif is_double_click(landmarks_lst, thumb_index_dist):\n",
    "            pyautogui.doubleClick()\n",
    "            cv2.putText(frame, \"Double Click\", (50,50),cv2.FONT_HERSHEY_SIMPLEX,1, (0,255,0),2)\n",
    "            \n",
    "        #Screen Shot - Thumb/index/ middle finger should be closed\n",
    "        elif is_screenshot(landmarks_lst, thumb_index_dist):\n",
    "            im1 = pyautogui.screenshot()   \n",
    "            label = random.randint(1,1000)  # As it'll take multiple screenshot, to store those it generates random no. as label\n",
    "            im1.save(f\"ScreenShot {label}.png\") # To save the img as png extension\n",
    "            cv2.putText(frame, \"Screen Shot Taken\", (50,50), cv2.FONT_HERSHEY_SIMPLEX, 1, (0,0,255),2)"
   ]
  },
  {
   "cell_type": "code",
   "execution_count": 55,
   "id": "99603f42-23a7-4eed-a315-c260a694bd36",
   "metadata": {},
   "outputs": [
    {
     "name": "stdout",
     "output_type": "stream",
     "text": [
      "Left clicked\n",
      "Left clicked\n",
      "Left clicked\n",
      "Left clicked\n",
      "Left clicked\n",
      "Left clicked\n",
      "Left clicked\n",
      "Left clicked\n",
      "Left clicked\n",
      "Left clicked\n",
      "Left clicked\n",
      "Left clicked\n",
      "Left clicked\n",
      "Left clicked\n",
      "Left clicked\n",
      "Left clicked\n",
      "Left clicked\n",
      "Left clicked\n",
      "Left clicked\n",
      "Left clicked\n",
      "Left clicked\n"
     ]
    }
   ],
   "source": [
    "def main():\n",
    "    cap = cv2.VideoCapture(0)  #0 means inbuild camera / primary camera\n",
    "    draw = mp.solutions.drawing_utils  # to show the line between the keypoints/ landmarks\n",
    "    try:\n",
    "        while cap.isOpened():\n",
    "            ret, frame = cap.read()   #ret - return is the bool value which returns the frame\n",
    "\n",
    "            if not ret:\n",
    "                break\n",
    "            frame = cv2.flip(frame, 1)   # Flip the frame so it'll look like we're watching the mirror\n",
    "            frameRGB = cv2.cvtColor(frame, cv2.COLOR_BGR2RGB)\n",
    "\n",
    "            processed = hands.process(frameRGB)  # it'll process the frame and read all the landmarks\n",
    "\n",
    "            landmarks_lst = []\n",
    "\n",
    "            if processed.multi_hand_landmarks:\n",
    "                hand_landmarks =processed.multi_hand_landmarks[0]\n",
    "                draw.draw_landmarks(frame, hand_landmarks, mpHands.HAND_CONNECTIONS)\n",
    "\n",
    "                for lm in hand_landmarks.landmark:\n",
    "                    landmarks_lst.append((lm.x, lm.y))\n",
    "\n",
    "            # Detect gestures\n",
    "            detect_gesture(frame, landmarks_lst, processed)\n",
    "\n",
    "            # print(landmarks_lst)\n",
    "            \n",
    "            cv2.imshow('Frame', frame)\n",
    "            if cv2.waitKey(3) & 0xFF == ord('q'):\n",
    "                break\n",
    "    finally:\n",
    "        cap.release()\n",
    "        cv2.destroyAllWindows()\n",
    "\n",
    "if __name__ == \"__main__\":\n",
    "    main()"
   ]
  },
  {
   "cell_type": "code",
   "execution_count": null,
   "id": "149a921b-3b6b-43a0-acae-0a41edb96278",
   "metadata": {},
   "outputs": [],
   "source": []
  },
  {
   "cell_type": "code",
   "execution_count": null,
   "id": "61b1f97c-1a54-4941-81e7-ed6e96b4deea",
   "metadata": {},
   "outputs": [],
   "source": []
  }
 ],
 "metadata": {
  "kernelspec": {
   "display_name": "Python 3 (ipykernel)",
   "language": "python",
   "name": "python3"
  },
  "language_info": {
   "codemirror_mode": {
    "name": "ipython",
    "version": 3
   },
   "file_extension": ".py",
   "mimetype": "text/x-python",
   "name": "python",
   "nbconvert_exporter": "python",
   "pygments_lexer": "ipython3",
   "version": "3.12.3"
  }
 },
 "nbformat": 4,
 "nbformat_minor": 5
}
